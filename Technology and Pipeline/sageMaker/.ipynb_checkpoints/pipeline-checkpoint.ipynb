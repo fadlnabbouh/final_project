{
 "cells": [
  {
   "cell_type": "code",
   "execution_count": 1,
   "metadata": {},
   "outputs": [],
   "source": [
    "import boto3\n",
    "import sagemaker\n",
    "import sagemaker.session\n",
    "\n",
    "\n",
    "region = boto3.Session().region_name\n",
    "sagemaker_session = sagemaker.session.Session()\n",
    "role = sagemaker.get_execution_role()\n",
    "default_bucket = sagemaker_session.default_bucket()\n",
    "model_package_group_name = f\"CardioPreprocessing\""
   ]
  },
  {
   "cell_type": "code",
   "execution_count": 2,
   "metadata": {},
   "outputs": [
    {
     "data": {
      "text/plain": [
       "'sagemaker-ca-central-1-049049517134'"
      ]
     },
     "execution_count": 2,
     "metadata": {},
     "output_type": "execute_result"
    }
   ],
   "source": [
    "default_bucket"
   ]
  },
  {
   "cell_type": "code",
   "execution_count": 3,
   "metadata": {},
   "outputs": [],
   "source": [
    "s3 = boto3.resource(\"s3\")\n",
    "\n",
    "local_path = \"../Resources/cardio_train.csv\"\n",
    "\n",
    "base_uri = f\"s3://{default_bucket}/cardio\"\n",
    "\n",
    "input_data_uri = sagemaker.s3.S3Uploader.upload(\n",
    "    local_path=local_path, \n",
    "    desired_s3_uri=base_uri,\n",
    ")"
   ]
  },
  {
   "cell_type": "code",
   "execution_count": 4,
   "metadata": {},
   "outputs": [
    {
     "name": "stdout",
     "output_type": "stream",
     "text": [
      "s3://sagemaker-ca-central-1-049049517134/cardio/cardio_train.csv\n"
     ]
    }
   ],
   "source": [
    "print(input_data_uri)"
   ]
  },
  {
   "cell_type": "code",
   "execution_count": 5,
   "metadata": {},
   "outputs": [],
   "source": [
    "from sagemaker.workflow.parameters import (\n",
    "    ParameterInteger,\n",
    "    ParameterString,\n",
    ")\n",
    "\n",
    "processing_instance_count = ParameterInteger(\n",
    "    name=\"ProcessingInstanceCount\",\n",
    "    default_value=1\n",
    ")\n",
    "processing_instance_type = ParameterString(\n",
    "    name=\"ProcessingInstanceType\",\n",
    "    default_value=\"ml.t3.medium\"\n",
    ")\n",
    "input_data = ParameterString(\n",
    "    name=\"InputData\",\n",
    "    default_value=input_data_uri,\n",
    ")"
   ]
  },
  {
   "cell_type": "code",
   "execution_count": 6,
   "metadata": {},
   "outputs": [],
   "source": [
    "!mkdir -p cardio"
   ]
  },
  {
   "cell_type": "code",
   "execution_count": 7,
   "metadata": {},
   "outputs": [
    {
     "name": "stdout",
     "output_type": "stream",
     "text": [
      "Overwriting cardio/preprocessing.py\n"
     ]
    }
   ],
   "source": [
    "%%writefile cardio/preprocessing.py\n",
    "\n",
    "# Import depndencies \n",
    "import pandas as pd \n",
    "import numpy as np \n",
    "\n",
    "if __name__ == \"__main__\":\n",
    "    \n",
    "    base_dir = \"/opt/ml/processing\"\n",
    "\n",
    "    # Loading the files \n",
    "    file_path = f\"{base_dir}/input/cardio_train.csv\"\n",
    "\n",
    "    # Read the data file and store it in a Pandas DataFrame.\n",
    "    cardio_df = pd.read_csv(file_path, delimiter=\";\")\n",
    "    cardio_df.head()\n",
    "\n",
    "    # Formatting the year as the whole number\n",
    "    cardio_df['New_age'] = cardio_df['age'].map(\"{:.0f}\".format)\n",
    "\n",
    "    # Format the age /365\n",
    "    cardio_df['New_age'] = cardio_df['age'] / 365\n",
    "\n",
    "    # Make the whole number\n",
    "    cardio_df['New_age'] = cardio_df['New_age'].map(\"{:.0f}\".format)\n",
    "\n",
    "    # replace 'age' column.\n",
    "    cardio_df.drop('age', axis=1, inplace=True)\n",
    "\n",
    "    # Rearrange the columns\n",
    "    cardio_df = cardio_df[['id', 'New_age', 'gender', 'height', 'weight', 'ap_hi', 'ap_lo', \n",
    "                                        'cholesterol', 'gluc', 'smoke', 'alco', 'active', 'cardio']] \n",
    "\n",
    "    # Rename the new 'age' column \n",
    "    cardio_df = cardio_df.rename(columns = {\"New_age\":\"Age\"}) \n",
    "    cardio_df.head()\n",
    "\n",
    "    # Check data types\n",
    "    cardio_df.dtypes\n",
    "\n",
    "    # ap hi maximum heart rate is around 220 beats per minute and the minumum is 100\n",
    "    #  Increasingly, experts pin an ideal resting heart rate at between 50 to 70 beats per minute\n",
    "\n",
    "    # Removing  outliers in the 'ap_hi' coulmn that are above 220\n",
    "    cardio_df.drop(cardio_df[cardio_df['ap_hi'] > 220].index, inplace = True)\n",
    "\n",
    "    # Remove outliers in the 'ap_hi' coulmn that are below 100\n",
    "    cardio_df.drop(cardio_df[cardio_df['ap_hi'] < 100].index, inplace = True)\n",
    "\n",
    "    # ap lo maximum heart rate is around 150 beats per minute and the minumum is 65\n",
    "    # Removing  outliers in the 'ap_lo' coulmn that are above  150\n",
    "    cardio_df.drop(cardio_df[cardio_df['ap_lo'] > 140].index, inplace = True)\n",
    "    # Remove outliers in the 'ap_lo' coulmn that are below 65\n",
    "    cardio_df.drop(cardio_df[cardio_df['ap_lo'] < 60].index, inplace = True)\n",
    "\n",
    "    # Converting  'height' column from cm to feet each cm = 0.032808399 foot\n",
    "\n",
    "    cardio_df['height'] = round(cardio_df['height']*0.0328084, 2)\n",
    "\n",
    "    # Converting 'weight' from kg to lb  1kg = 2.20462 lbs\n",
    "    cardio_df['weight'] = round(cardio_df['weight'] * 2.20462, 1)\n",
    "\n",
    "    cardio_df.to_csv(\"/opt/ml/processing/output/preprocessed/cardio_train_output.csv\",header=False, index=False)"
   ]
  },
  {
   "cell_type": "code",
   "execution_count": 8,
   "metadata": {},
   "outputs": [],
   "source": [
    "from sagemaker.sklearn.processing import SKLearnProcessor\n",
    "\n",
    "framework_version = \"0.23-1\"\n",
    "\n",
    "sklearn_processor = SKLearnProcessor(\n",
    "    framework_version=framework_version,\n",
    "    instance_type=processing_instance_type,\n",
    "    instance_count=processing_instance_count,\n",
    "    base_job_name=\"sklearn-cardio-process\",\n",
    "    role=role,\n",
    ")"
   ]
  },
  {
   "cell_type": "code",
   "execution_count": 9,
   "metadata": {},
   "outputs": [],
   "source": [
    "from sagemaker.processing import ProcessingInput, ProcessingOutput\n",
    "from sagemaker.workflow.steps import ProcessingStep\n",
    "    \n",
    "\n",
    "step_process = ProcessingStep(\n",
    "    name=\"CardioProcess\",\n",
    "    processor=sklearn_processor,\n",
    "    inputs=[\n",
    "        ProcessingInput(source=input_data, destination=\"/opt/ml/processing/input\"),  \n",
    "    ],\n",
    "    outputs=[\n",
    "        ProcessingOutput(output_name=\"cardio_train_output\", source=\"/opt/ml/processing/output/preprocessed\"),\n",
    "    ],\n",
    "    code=\"cardio/preprocessing.py\",\n",
    ")"
   ]
  },
  {
   "cell_type": "code",
   "execution_count": 10,
   "metadata": {},
   "outputs": [],
   "source": [
    "from sagemaker.workflow.pipeline import Pipeline\n",
    "\n",
    "\n",
    "pipeline_name = f\"CardioPipeline\"\n",
    "pipeline = Pipeline(\n",
    "    name=pipeline_name,\n",
    "    parameters=[\n",
    "        processing_instance_type, \n",
    "        processing_instance_count,\n",
    "        input_data,\n",
    "    ],\n",
    "    steps=[step_process],\n",
    ")"
   ]
  },
  {
   "cell_type": "code",
   "execution_count": 11,
   "metadata": {},
   "outputs": [
    {
     "data": {
      "text/plain": [
       "{'Version': '2020-12-01',\n",
       " 'Metadata': {},\n",
       " 'Parameters': [{'Name': 'ProcessingInstanceType',\n",
       "   'Type': 'String',\n",
       "   'DefaultValue': 'ml.t3.medium'},\n",
       "  {'Name': 'ProcessingInstanceCount', 'Type': 'Integer', 'DefaultValue': 1},\n",
       "  {'Name': 'InputData',\n",
       "   'Type': 'String',\n",
       "   'DefaultValue': 's3://sagemaker-ca-central-1-049049517134/cardio/cardio_train.csv'}],\n",
       " 'PipelineExperimentConfig': {'ExperimentName': {'Get': 'Execution.PipelineName'},\n",
       "  'TrialName': {'Get': 'Execution.PipelineExecutionId'}},\n",
       " 'Steps': [{'Name': 'CardioProcess',\n",
       "   'Type': 'Processing',\n",
       "   'Arguments': {'ProcessingResources': {'ClusterConfig': {'InstanceType': {'Get': 'Parameters.ProcessingInstanceType'},\n",
       "      'InstanceCount': {'Get': 'Parameters.ProcessingInstanceCount'},\n",
       "      'VolumeSizeInGB': 30}},\n",
       "    'AppSpecification': {'ImageUri': '341280168497.dkr.ecr.ca-central-1.amazonaws.com/sagemaker-scikit-learn:0.23-1-cpu-py3',\n",
       "     'ContainerEntrypoint': ['python3',\n",
       "      '/opt/ml/processing/input/code/preprocessing.py']},\n",
       "    'RoleArn': 'arn:aws:iam::049049517134:role/service-role/AmazonSageMaker-ExecutionRole-20210901T201342',\n",
       "    'ProcessingInputs': [{'InputName': 'input-1',\n",
       "      'AppManaged': False,\n",
       "      'S3Input': {'S3Uri': {'Get': 'Parameters.InputData'},\n",
       "       'LocalPath': '/opt/ml/processing/input',\n",
       "       'S3DataType': 'S3Prefix',\n",
       "       'S3InputMode': 'File',\n",
       "       'S3DataDistributionType': 'FullyReplicated',\n",
       "       'S3CompressionType': 'None'}},\n",
       "     {'InputName': 'code',\n",
       "      'AppManaged': False,\n",
       "      'S3Input': {'S3Uri': 's3://sagemaker-ca-central-1-049049517134/sklearn-cardio-process-2021-09-04-03-42-34-278/input/code/preprocessing.py',\n",
       "       'LocalPath': '/opt/ml/processing/input/code',\n",
       "       'S3DataType': 'S3Prefix',\n",
       "       'S3InputMode': 'File',\n",
       "       'S3DataDistributionType': 'FullyReplicated',\n",
       "       'S3CompressionType': 'None'}}],\n",
       "    'ProcessingOutputConfig': {'Outputs': [{'OutputName': 'cardio_train_output',\n",
       "       'AppManaged': False,\n",
       "       'S3Output': {'S3Uri': 's3://sagemaker-ca-central-1-049049517134/sklearn-cardio-process-2021-09-04-03-42-34-278/output/cardio_train_output',\n",
       "        'LocalPath': '/opt/ml/processing/output/preprocessed',\n",
       "        'S3UploadMode': 'EndOfJob'}}]}}}]}"
      ]
     },
     "execution_count": 11,
     "metadata": {},
     "output_type": "execute_result"
    }
   ],
   "source": [
    "import json\n",
    "json.loads(pipeline.definition())"
   ]
  },
  {
   "cell_type": "code",
   "execution_count": 12,
   "metadata": {},
   "outputs": [
    {
     "data": {
      "text/plain": [
       "{'PipelineArn': 'arn:aws:sagemaker:ca-central-1:049049517134:pipeline/cardiopipeline',\n",
       " 'ResponseMetadata': {'RequestId': '4ad2e405-d601-431d-ab6f-2e45be4dd891',\n",
       "  'HTTPStatusCode': 200,\n",
       "  'HTTPHeaders': {'x-amzn-requestid': '4ad2e405-d601-431d-ab6f-2e45be4dd891',\n",
       "   'content-type': 'application/x-amz-json-1.1',\n",
       "   'content-length': '85',\n",
       "   'date': 'Sat, 04 Sep 2021 03:42:35 GMT'},\n",
       "  'RetryAttempts': 0}}"
      ]
     },
     "execution_count": 12,
     "metadata": {},
     "output_type": "execute_result"
    }
   ],
   "source": [
    "pipeline.upsert(role_arn=role)"
   ]
  },
  {
   "cell_type": "code",
   "execution_count": 13,
   "metadata": {},
   "outputs": [],
   "source": [
    "execution = pipeline.start()"
   ]
  },
  {
   "cell_type": "code",
   "execution_count": 14,
   "metadata": {},
   "outputs": [
    {
     "data": {
      "text/plain": [
       "{'PipelineArn': 'arn:aws:sagemaker:ca-central-1:049049517134:pipeline/cardiopipeline',\n",
       " 'PipelineExecutionArn': 'arn:aws:sagemaker:ca-central-1:049049517134:pipeline/cardiopipeline/execution/bh1r1oz3dv7z',\n",
       " 'PipelineExecutionDisplayName': 'execution-1630726955725',\n",
       " 'PipelineExecutionStatus': 'Executing',\n",
       " 'PipelineExperimentConfig': {'ExperimentName': 'cardiopipeline',\n",
       "  'TrialName': 'bh1r1oz3dv7z'},\n",
       " 'CreationTime': datetime.datetime(2021, 9, 4, 3, 42, 35, 662000, tzinfo=tzlocal()),\n",
       " 'LastModifiedTime': datetime.datetime(2021, 9, 4, 3, 42, 35, 662000, tzinfo=tzlocal()),\n",
       " 'CreatedBy': {'UserProfileArn': 'arn:aws:sagemaker:ca-central-1:049049517134:user-profile/d-vfui3c0gpdwg/test-studio',\n",
       "  'UserProfileName': 'test-studio',\n",
       "  'DomainId': 'd-vfui3c0gpdwg'},\n",
       " 'LastModifiedBy': {'UserProfileArn': 'arn:aws:sagemaker:ca-central-1:049049517134:user-profile/d-vfui3c0gpdwg/test-studio',\n",
       "  'UserProfileName': 'test-studio',\n",
       "  'DomainId': 'd-vfui3c0gpdwg'},\n",
       " 'ResponseMetadata': {'RequestId': 'c2558734-1afb-404f-b626-dac8c11f0697',\n",
       "  'HTTPStatusCode': 200,\n",
       "  'HTTPHeaders': {'x-amzn-requestid': 'c2558734-1afb-404f-b626-dac8c11f0697',\n",
       "   'content-type': 'application/x-amz-json-1.1',\n",
       "   'content-length': '813',\n",
       "   'date': 'Sat, 04 Sep 2021 03:42:36 GMT'},\n",
       "  'RetryAttempts': 0}}"
      ]
     },
     "execution_count": 14,
     "metadata": {},
     "output_type": "execute_result"
    }
   ],
   "source": [
    "execution.describe()"
   ]
  },
  {
   "cell_type": "code",
   "execution_count": 15,
   "metadata": {},
   "outputs": [
    {
     "data": {
      "text/plain": [
       "[{'StepName': 'CardioProcess',\n",
       "  'StartTime': datetime.datetime(2021, 9, 4, 3, 42, 36, 146000, tzinfo=tzlocal()),\n",
       "  'StepStatus': 'Executing',\n",
       "  'Metadata': {'ProcessingJob': {'Arn': 'arn:aws:sagemaker:ca-central-1:049049517134:processing-job/pipelines-bh1r1oz3dv7z-cardioprocess-yr7lsuwsyo'}}}]"
      ]
     },
     "execution_count": 15,
     "metadata": {},
     "output_type": "execute_result"
    }
   ],
   "source": [
    "execution.list_steps()\n"
   ]
  },
  {
   "cell_type": "code",
   "execution_count": null,
   "metadata": {},
   "outputs": [],
   "source": []
  },
  {
   "cell_type": "code",
   "execution_count": null,
   "metadata": {},
   "outputs": [],
   "source": []
  }
 ],
 "metadata": {
  "instance_type": "ml.t3.medium",
  "kernelspec": {
   "display_name": "Python 3 (Data Science)",
   "language": "python",
   "name": "python3__SAGEMAKER_INTERNAL__arn:aws:sagemaker:ca-central-1:310906938811:image/datascience-1.0"
  },
  "language_info": {
   "codemirror_mode": {
    "name": "ipython",
    "version": 3
   },
   "file_extension": ".py",
   "mimetype": "text/x-python",
   "name": "python",
   "nbconvert_exporter": "python",
   "pygments_lexer": "ipython3",
   "version": "3.7.10"
  }
 },
 "nbformat": 4,
 "nbformat_minor": 4
}
