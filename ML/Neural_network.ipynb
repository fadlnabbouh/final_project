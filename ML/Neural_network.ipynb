{
 "cells": [
  {
   "cell_type": "code",
   "execution_count": null,
   "id": "122db7e5",
   "metadata": {},
   "outputs": [],
   "source": [
    "# import dependencies\n",
    "from sklearn.model_selection import train_test_split\n",
    "from sklearn.preprocessing import StandardScaler,OneHotEncoder\n",
    "import pandas as pd\n",
    "import tensorflow as tf\n",
    "import os\n",
    "from tensorflow.keras.callbacks import ModelCheckpoint"
   ]
  },
  {
   "cell_type": "code",
   "execution_count": null,
   "id": "8e300f84",
   "metadata": {},
   "outputs": [],
   "source": [
    "engine = create_engine(dbConnectionString)\n",
    "\n",
    "#import dataframe from SQL database\n",
    "df = pd.read_sql_query('select * from \"cardioData\"',con=engine)\n",
    "df = df.drop(columns = ['index', 'id'])\n",
    "df"
   ]
  },
  {
   "cell_type": "code",
   "execution_count": null,
   "id": "937d9f92",
   "metadata": {},
   "outputs": [],
   "source": [
    "le = LabelEncoder()\n",
    "df2 = df.copy()\n",
    "df2"
   ]
  },
  {
   "cell_type": "code",
   "execution_count": null,
   "id": "47252599",
   "metadata": {},
   "outputs": [],
   "source": [
    "#female = 0, male = 1\n",
    "df2['gender'] = le.fit_transform(df2['gender'])\n",
    "df2"
   ]
  },
  {
   "cell_type": "code",
   "execution_count": null,
   "id": "e96c4e8e",
   "metadata": {},
   "outputs": [],
   "source": [
    "normal_dic = {\n",
    "    \"normal\" : 0,\n",
    "    \"above normal\" : 1,\n",
    "    \"well above normal\" : 2,\n",
    "}\n",
    "\n",
    "true_false_dic = {\n",
    "    True : 1,\n",
    "    False : 0,\n",
    "}\n",
    "\n",
    "df2['cardiovascular'] = df2['cardiovascular'].apply(lambda x : true_false_dic[x])\n",
    "df2['smoke'] = df2['smoke'].apply(lambda x : true_false_dic[x])\n",
    "df2['alchohol'] = df2['alchohol'].apply(lambda x : true_false_dic[x])\n",
    "df2['active'] = df2['active'].apply(lambda x : true_false_dic[x])\n",
    "\n",
    "df2['cholestrol'] = df2['cholestrol'].apply(lambda x : normal_dic[x])\n",
    "df2['gloucose'] = df2['gloucose'].apply(lambda x : normal_dic[x])\n",
    "df2"
   ]
  },
  {
   "cell_type": "code",
   "execution_count": null,
   "id": "1e15252f",
   "metadata": {},
   "outputs": [],
   "source": [
    "# set X and y values\n",
    "X = df2.drop(['cardiovascular', 'BMI'], 1).values\n",
    "y = df2['cardiovascular'].values"
   ]
  },
  {
   "cell_type": "code",
   "execution_count": null,
   "id": "97181bad",
   "metadata": {},
   "outputs": [],
   "source": [
    "# split data into training and testing\n",
    "from sklearn.model_selection import train_test_split\n",
    "\n",
    "X_train, X_test, y_train, y_test = train_test_split(X, y, random_state=9, stratify=y)\n",
    "\n",
    "scaler= StandardScaler()\n",
    "\n",
    "X_scaler = scaler.fit(X_train)\n",
    "\n",
    "X_train_scaled = X_scaler.transform(X_train)\n",
    "X_test_scaled = X_scaler.transform(X_test)"
   ]
  },
  {
   "cell_type": "code",
   "execution_count": null,
   "id": "4454b03c",
   "metadata": {},
   "outputs": [],
   "source": [
    "# neural net\n",
    "input_features = len(X_train_scaled[0])\n",
    "hidden_nodes_layer1 = 13\n",
    "hidden_nodes_layer2 = 8\n",
    "\n",
    "nn_model = tf.keras.models.Sequential()\n",
    "\n"
   ]
  },
  {
   "cell_type": "code",
   "execution_count": null,
   "id": "58e6b6b2",
   "metadata": {},
   "outputs": [],
   "source": []
  }
 ],
 "metadata": {
  "kernelspec": {
   "display_name": "Python 3",
   "language": "python",
   "name": "python3"
  },
  "language_info": {
   "codemirror_mode": {
    "name": "ipython",
    "version": 3
   },
   "file_extension": ".py",
   "mimetype": "text/x-python",
   "name": "python",
   "nbconvert_exporter": "python",
   "pygments_lexer": "ipython3",
   "version": "3.8.8"
  }
 },
 "nbformat": 4,
 "nbformat_minor": 5
}
