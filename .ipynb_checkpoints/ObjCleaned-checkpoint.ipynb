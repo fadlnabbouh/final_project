{
 "cells": [
  {
   "cell_type": "code",
   "execution_count": 94,
   "id": "bb963b5b",
   "metadata": {},
   "outputs": [],
   "source": [
    "# Import depndencies \n",
    "import pandas as pd \n",
    "import numpy as np \n",
    "import os"
   ]
  },
  {
   "cell_type": "code",
   "execution_count": 95,
   "id": "c8165791",
   "metadata": {},
   "outputs": [],
   "source": [
    "# Loading the files \n",
    "file_path = \"objective_feature_cardio.csv\""
   ]
  },
  {
   "cell_type": "code",
   "execution_count": 96,
   "id": "db13b389",
   "metadata": {},
   "outputs": [
    {
     "data": {
      "text/html": [
       "<div>\n",
       "<style scoped>\n",
       "    .dataframe tbody tr th:only-of-type {\n",
       "        vertical-align: middle;\n",
       "    }\n",
       "\n",
       "    .dataframe tbody tr th {\n",
       "        vertical-align: top;\n",
       "    }\n",
       "\n",
       "    .dataframe thead th {\n",
       "        text-align: right;\n",
       "    }\n",
       "</style>\n",
       "<table border=\"1\" class=\"dataframe\">\n",
       "  <thead>\n",
       "    <tr style=\"text-align: right;\">\n",
       "      <th></th>\n",
       "      <th>id</th>\n",
       "      <th>age</th>\n",
       "      <th>gender</th>\n",
       "      <th>height</th>\n",
       "      <th>weight</th>\n",
       "      <th>cardiovascular_disease</th>\n",
       "    </tr>\n",
       "  </thead>\n",
       "  <tbody>\n",
       "    <tr>\n",
       "      <th>0</th>\n",
       "      <td>0</td>\n",
       "      <td>18393</td>\n",
       "      <td>Female</td>\n",
       "      <td>168</td>\n",
       "      <td>62</td>\n",
       "      <td>No</td>\n",
       "    </tr>\n",
       "    <tr>\n",
       "      <th>1</th>\n",
       "      <td>1</td>\n",
       "      <td>20228</td>\n",
       "      <td>Male</td>\n",
       "      <td>156</td>\n",
       "      <td>85</td>\n",
       "      <td>Yes</td>\n",
       "    </tr>\n",
       "    <tr>\n",
       "      <th>2</th>\n",
       "      <td>2</td>\n",
       "      <td>18857</td>\n",
       "      <td>Male</td>\n",
       "      <td>165</td>\n",
       "      <td>64</td>\n",
       "      <td>Yes</td>\n",
       "    </tr>\n",
       "    <tr>\n",
       "      <th>3</th>\n",
       "      <td>3</td>\n",
       "      <td>17623</td>\n",
       "      <td>Female</td>\n",
       "      <td>169</td>\n",
       "      <td>82</td>\n",
       "      <td>Yes</td>\n",
       "    </tr>\n",
       "    <tr>\n",
       "      <th>4</th>\n",
       "      <td>4</td>\n",
       "      <td>17474</td>\n",
       "      <td>Male</td>\n",
       "      <td>156</td>\n",
       "      <td>56</td>\n",
       "      <td>No</td>\n",
       "    </tr>\n",
       "  </tbody>\n",
       "</table>\n",
       "</div>"
      ],
      "text/plain": [
       "   id    age  gender  height  weight cardiovascular_disease\n",
       "0   0  18393  Female     168      62                     No\n",
       "1   1  20228    Male     156      85                    Yes\n",
       "2   2  18857    Male     165      64                    Yes\n",
       "3   3  17623  Female     169      82                    Yes\n",
       "4   4  17474    Male     156      56                     No"
      ]
     },
     "execution_count": 96,
     "metadata": {},
     "output_type": "execute_result"
    }
   ],
   "source": [
    "# Read the data file and store it in a Pandas DataFrame.\n",
    "obj_df = pd.read_csv(file_path)\n",
    "obj_df.head()"
   ]
  },
  {
   "cell_type": "code",
   "execution_count": 97,
   "id": "09a260dd",
   "metadata": {},
   "outputs": [],
   "source": [
    "# Formatting the year as the whole number\n",
    "obj_df['New_age'] = obj_df['age'].map(\"{:.0f}\".format)\n",
    "# Format the age /365\n",
    "obj_df['New_age'] = obj_df['age'] / 365"
   ]
  },
  {
   "cell_type": "code",
   "execution_count": 98,
   "id": "70e662a4",
   "metadata": {},
   "outputs": [],
   "source": [
    "# Make the New_age  whole number\n",
    "obj_df['New_age'] = obj_df['New_age'].map(\"{:.0f}\".format)"
   ]
  },
  {
   "cell_type": "code",
   "execution_count": 99,
   "id": "979003bf",
   "metadata": {},
   "outputs": [],
   "source": [
    "# replace 'age' column.\n",
    "obj_df.drop('age', axis=1, inplace=True)"
   ]
  },
  {
   "cell_type": "code",
   "execution_count": 100,
   "id": "ba5d7418",
   "metadata": {},
   "outputs": [],
   "source": [
    "# Rearrange the columns\n",
    "obj_df = obj_df[['id', 'New_age', 'gender', 'height', 'weight','cardiovascular_disease']] "
   ]
  },
  {
   "cell_type": "code",
   "execution_count": 101,
   "id": "119aabfe",
   "metadata": {},
   "outputs": [
    {
     "data": {
      "text/html": [
       "<div>\n",
       "<style scoped>\n",
       "    .dataframe tbody tr th:only-of-type {\n",
       "        vertical-align: middle;\n",
       "    }\n",
       "\n",
       "    .dataframe tbody tr th {\n",
       "        vertical-align: top;\n",
       "    }\n",
       "\n",
       "    .dataframe thead th {\n",
       "        text-align: right;\n",
       "    }\n",
       "</style>\n",
       "<table border=\"1\" class=\"dataframe\">\n",
       "  <thead>\n",
       "    <tr style=\"text-align: right;\">\n",
       "      <th></th>\n",
       "      <th>id</th>\n",
       "      <th>age</th>\n",
       "      <th>gender</th>\n",
       "      <th>height</th>\n",
       "      <th>weight</th>\n",
       "      <th>cardiovascular_disease</th>\n",
       "    </tr>\n",
       "  </thead>\n",
       "  <tbody>\n",
       "    <tr>\n",
       "      <th>0</th>\n",
       "      <td>0</td>\n",
       "      <td>50</td>\n",
       "      <td>Female</td>\n",
       "      <td>168</td>\n",
       "      <td>62</td>\n",
       "      <td>No</td>\n",
       "    </tr>\n",
       "    <tr>\n",
       "      <th>1</th>\n",
       "      <td>1</td>\n",
       "      <td>55</td>\n",
       "      <td>Male</td>\n",
       "      <td>156</td>\n",
       "      <td>85</td>\n",
       "      <td>Yes</td>\n",
       "    </tr>\n",
       "    <tr>\n",
       "      <th>2</th>\n",
       "      <td>2</td>\n",
       "      <td>52</td>\n",
       "      <td>Male</td>\n",
       "      <td>165</td>\n",
       "      <td>64</td>\n",
       "      <td>Yes</td>\n",
       "    </tr>\n",
       "    <tr>\n",
       "      <th>3</th>\n",
       "      <td>3</td>\n",
       "      <td>48</td>\n",
       "      <td>Female</td>\n",
       "      <td>169</td>\n",
       "      <td>82</td>\n",
       "      <td>Yes</td>\n",
       "    </tr>\n",
       "    <tr>\n",
       "      <th>4</th>\n",
       "      <td>4</td>\n",
       "      <td>48</td>\n",
       "      <td>Male</td>\n",
       "      <td>156</td>\n",
       "      <td>56</td>\n",
       "      <td>No</td>\n",
       "    </tr>\n",
       "  </tbody>\n",
       "</table>\n",
       "</div>"
      ],
      "text/plain": [
       "   id age  gender  height  weight cardiovascular_disease\n",
       "0   0  50  Female     168      62                     No\n",
       "1   1  55    Male     156      85                    Yes\n",
       "2   2  52    Male     165      64                    Yes\n",
       "3   3  48  Female     169      82                    Yes\n",
       "4   4  48    Male     156      56                     No"
      ]
     },
     "execution_count": 101,
     "metadata": {},
     "output_type": "execute_result"
    }
   ],
   "source": [
    "# Rename the new 'age' column \n",
    "obj_df = obj_df.rename(columns = {\"New_age\":\"age\"}) \n",
    "obj_df.head()"
   ]
  },
  {
   "cell_type": "code",
   "execution_count": 102,
   "id": "e8594cff",
   "metadata": {},
   "outputs": [],
   "source": [
    "# Removing  outliers in the 'weight' coulmn that less than 30 Kg\n",
    "obj_df.drop(obj_df[obj_df['weight'] < 30].index, inplace = True)"
   ]
  },
  {
   "cell_type": "code",
   "execution_count": 103,
   "id": "c66a673f",
   "metadata": {},
   "outputs": [],
   "source": [
    "# Removing  outliers in the 'height' coulmn that are less than  100\n",
    "obj_df.drop(obj_df[obj_df['height'] < 100].index, inplace = True)\n",
    "# Removing  outliers in the 'height' coulmn that are greater than  210\n",
    "obj_df.drop(obj_df[obj_df['height'] > 210].index, inplace = True)"
   ]
  },
  {
   "cell_type": "code",
   "execution_count": 104,
   "id": "0f2454df",
   "metadata": {},
   "outputs": [],
   "source": [
    "# defining df.weight and df.height to calculate BMI\n",
    "obj_df.weight = obj_df[\"weight\"]\n",
    "obj_df.height = obj_df[\"height\"]"
   ]
  },
  {
   "cell_type": "code",
   "execution_count": 105,
   "id": "9bdbeb84",
   "metadata": {},
   "outputs": [],
   "source": [
    "obj_df[\"BMI\"] = obj_df.weight*obj_df.weight/ obj_df.height"
   ]
  },
  {
   "cell_type": "code",
   "execution_count": 106,
   "id": "43a6765a",
   "metadata": {},
   "outputs": [],
   "source": [
    "# Format the data (round BMI down so that  is a whole number)\n",
    "obj_df['BMI'] = obj_df['BMI'].map(\"{:.0f}\".format)"
   ]
  },
  {
   "cell_type": "code",
   "execution_count": 107,
   "id": "61de9c6d",
   "metadata": {},
   "outputs": [
    {
     "data": {
      "text/html": [
       "<div>\n",
       "<style scoped>\n",
       "    .dataframe tbody tr th:only-of-type {\n",
       "        vertical-align: middle;\n",
       "    }\n",
       "\n",
       "    .dataframe tbody tr th {\n",
       "        vertical-align: top;\n",
       "    }\n",
       "\n",
       "    .dataframe thead th {\n",
       "        text-align: right;\n",
       "    }\n",
       "</style>\n",
       "<table border=\"1\" class=\"dataframe\">\n",
       "  <thead>\n",
       "    <tr style=\"text-align: right;\">\n",
       "      <th></th>\n",
       "      <th>id</th>\n",
       "      <th>age</th>\n",
       "      <th>gender</th>\n",
       "      <th>height</th>\n",
       "      <th>weight</th>\n",
       "      <th>cardiovascular_disease</th>\n",
       "      <th>BMI</th>\n",
       "    </tr>\n",
       "  </thead>\n",
       "  <tbody>\n",
       "    <tr>\n",
       "      <th>0</th>\n",
       "      <td>0</td>\n",
       "      <td>50</td>\n",
       "      <td>Female</td>\n",
       "      <td>168</td>\n",
       "      <td>62</td>\n",
       "      <td>No</td>\n",
       "      <td>23</td>\n",
       "    </tr>\n",
       "    <tr>\n",
       "      <th>1</th>\n",
       "      <td>1</td>\n",
       "      <td>55</td>\n",
       "      <td>Male</td>\n",
       "      <td>156</td>\n",
       "      <td>85</td>\n",
       "      <td>Yes</td>\n",
       "      <td>46</td>\n",
       "    </tr>\n",
       "    <tr>\n",
       "      <th>2</th>\n",
       "      <td>2</td>\n",
       "      <td>52</td>\n",
       "      <td>Male</td>\n",
       "      <td>165</td>\n",
       "      <td>64</td>\n",
       "      <td>Yes</td>\n",
       "      <td>25</td>\n",
       "    </tr>\n",
       "    <tr>\n",
       "      <th>3</th>\n",
       "      <td>3</td>\n",
       "      <td>48</td>\n",
       "      <td>Female</td>\n",
       "      <td>169</td>\n",
       "      <td>82</td>\n",
       "      <td>Yes</td>\n",
       "      <td>40</td>\n",
       "    </tr>\n",
       "    <tr>\n",
       "      <th>4</th>\n",
       "      <td>4</td>\n",
       "      <td>48</td>\n",
       "      <td>Male</td>\n",
       "      <td>156</td>\n",
       "      <td>56</td>\n",
       "      <td>No</td>\n",
       "      <td>20</td>\n",
       "    </tr>\n",
       "  </tbody>\n",
       "</table>\n",
       "</div>"
      ],
      "text/plain": [
       "   id age  gender  height  weight cardiovascular_disease BMI\n",
       "0   0  50  Female     168      62                     No  23\n",
       "1   1  55    Male     156      85                    Yes  46\n",
       "2   2  52    Male     165      64                    Yes  25\n",
       "3   3  48  Female     169      82                    Yes  40\n",
       "4   4  48    Male     156      56                     No  20"
      ]
     },
     "execution_count": 107,
     "metadata": {},
     "output_type": "execute_result"
    }
   ],
   "source": [
    "obj_df.head()"
   ]
  },
  {
   "cell_type": "code",
   "execution_count": 108,
   "id": "84757206",
   "metadata": {},
   "outputs": [],
   "source": [
    "# Converting  'height' column from cm to feet each cm = 0.032808399 foot\n",
    "\n",
    "obj_df['height'] = round(obj_df['height']*0.0328084, 2)"
   ]
  },
  {
   "cell_type": "code",
   "execution_count": 109,
   "id": "0c711095",
   "metadata": {},
   "outputs": [],
   "source": [
    "# Converting 'weight' from kg to lb  1kg = 2.20462 lbs\n",
    "obj_df['weight'] = round(obj_df['weight'] * 2.20462, 1)"
   ]
  },
  {
   "cell_type": "code",
   "execution_count": 110,
   "id": "98825abe",
   "metadata": {},
   "outputs": [
    {
     "data": {
      "text/plain": [
       "(69963, 7)"
      ]
     },
     "execution_count": 110,
     "metadata": {},
     "output_type": "execute_result"
    }
   ],
   "source": [
    "obj_df.shape"
   ]
  },
  {
   "cell_type": "code",
   "execution_count": 111,
   "id": "9d9aa86a",
   "metadata": {},
   "outputs": [
    {
     "data": {
      "text/html": [
       "<div>\n",
       "<style scoped>\n",
       "    .dataframe tbody tr th:only-of-type {\n",
       "        vertical-align: middle;\n",
       "    }\n",
       "\n",
       "    .dataframe tbody tr th {\n",
       "        vertical-align: top;\n",
       "    }\n",
       "\n",
       "    .dataframe thead th {\n",
       "        text-align: right;\n",
       "    }\n",
       "</style>\n",
       "<table border=\"1\" class=\"dataframe\">\n",
       "  <thead>\n",
       "    <tr style=\"text-align: right;\">\n",
       "      <th></th>\n",
       "      <th>id</th>\n",
       "      <th>age</th>\n",
       "      <th>gender</th>\n",
       "      <th>height</th>\n",
       "      <th>weight</th>\n",
       "      <th>cardiovascular_disease</th>\n",
       "      <th>BMI</th>\n",
       "    </tr>\n",
       "  </thead>\n",
       "  <tbody>\n",
       "    <tr>\n",
       "      <th>0</th>\n",
       "      <td>0</td>\n",
       "      <td>50</td>\n",
       "      <td>Female</td>\n",
       "      <td>5.51</td>\n",
       "      <td>136.7</td>\n",
       "      <td>No</td>\n",
       "      <td>23</td>\n",
       "    </tr>\n",
       "    <tr>\n",
       "      <th>1</th>\n",
       "      <td>1</td>\n",
       "      <td>55</td>\n",
       "      <td>Male</td>\n",
       "      <td>5.12</td>\n",
       "      <td>187.4</td>\n",
       "      <td>Yes</td>\n",
       "      <td>46</td>\n",
       "    </tr>\n",
       "    <tr>\n",
       "      <th>2</th>\n",
       "      <td>2</td>\n",
       "      <td>52</td>\n",
       "      <td>Male</td>\n",
       "      <td>5.41</td>\n",
       "      <td>141.1</td>\n",
       "      <td>Yes</td>\n",
       "      <td>25</td>\n",
       "    </tr>\n",
       "    <tr>\n",
       "      <th>3</th>\n",
       "      <td>3</td>\n",
       "      <td>48</td>\n",
       "      <td>Female</td>\n",
       "      <td>5.54</td>\n",
       "      <td>180.8</td>\n",
       "      <td>Yes</td>\n",
       "      <td>40</td>\n",
       "    </tr>\n",
       "    <tr>\n",
       "      <th>4</th>\n",
       "      <td>4</td>\n",
       "      <td>48</td>\n",
       "      <td>Male</td>\n",
       "      <td>5.12</td>\n",
       "      <td>123.5</td>\n",
       "      <td>No</td>\n",
       "      <td>20</td>\n",
       "    </tr>\n",
       "  </tbody>\n",
       "</table>\n",
       "</div>"
      ],
      "text/plain": [
       "   id age  gender  height  weight cardiovascular_disease BMI\n",
       "0   0  50  Female    5.51   136.7                     No  23\n",
       "1   1  55    Male    5.12   187.4                    Yes  46\n",
       "2   2  52    Male    5.41   141.1                    Yes  25\n",
       "3   3  48  Female    5.54   180.8                    Yes  40\n",
       "4   4  48    Male    5.12   123.5                     No  20"
      ]
     },
     "execution_count": 111,
     "metadata": {},
     "output_type": "execute_result"
    }
   ],
   "source": [
    "obj_df.head()"
   ]
  },
  {
   "cell_type": "code",
   "execution_count": 112,
   "id": "93ffe5e0",
   "metadata": {},
   "outputs": [],
   "source": [
    "obj_df.to_csv(r'Resources\\CleanedObj.csv', index = False)"
   ]
  },
  {
   "cell_type": "code",
   "execution_count": null,
   "id": "905d4566",
   "metadata": {},
   "outputs": [],
   "source": []
  }
 ],
 "metadata": {
  "kernelspec": {
   "display_name": "mlenv",
   "language": "python",
   "name": "mlenv"
  },
  "language_info": {
   "codemirror_mode": {
    "name": "ipython",
    "version": 3
   },
   "file_extension": ".py",
   "mimetype": "text/x-python",
   "name": "python",
   "nbconvert_exporter": "python",
   "pygments_lexer": "ipython3",
   "version": "3.7.10"
  }
 },
 "nbformat": 4,
 "nbformat_minor": 5
}
